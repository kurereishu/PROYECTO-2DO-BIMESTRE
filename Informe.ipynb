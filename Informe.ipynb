{
 "cells": [
  {
   "cell_type": "markdown",
   "id": "0c095a3b",
   "metadata": {},
   "source": [
    "\n",
    "# Escuela Politécnica Nacional"
   ]
  },
  {
   "cell_type": "markdown",
   "id": "9b043fd1",
   "metadata": {},
   "source": [
    "## Informe de Proyecto II Bimestre Métodos Numéricos"
   ]
  },
  {
   "cell_type": "markdown",
   "id": "3a012626",
   "metadata": {},
   "source": [
    "## Integrantes:\n",
    "1. Andres Ayala\n",
    "2. Ian Oñate.\n",
    "3. Pablo Pacheco.\n",
    "4. Jhonn Saeteros."
   ]
  },
  {
   "cell_type": "markdown",
   "id": "a08501d2",
   "metadata": {},
   "source": [
    "# Marco Teórico"
   ]
  },
  {
   "cell_type": "markdown",
   "id": "e26f0b1f",
   "metadata": {},
   "source": [
    "La energía solar que nuestro país recibe es aprovechada principalmente por los paneles solares, que son la base fundamental de nuestro proyecto y la inspiración del mismo, ya que se va a emplear una técnica para optimizar la captación de energía solar mediante el ajuste continuo de la orientación de un panel fotovoltaico en función de la posición aparente del sol.  \n",
    "\n",
    "En sistemas de seguimiento de dos grados de libertad, el panel puede rotar sobre dos ejes: el **azimutal** (eje horizontal) y el de **elevación** (eje vertical). Esto nos permite mantener una orientación perpendicular a los rayos solares durante todo el día.  \n",
    "\n",
    "Principalmente consideramos que:  \n",
    "\n",
    "La posición solar respecto a un punto de la superficie terrestre se describe mediante dos ángulos principales que mencionamos anteriormente. Profundizando, el ángulo de **elevación** es el ángulo entre el horizonte y el sol, mientras que el **azimut** es el ángulo horizontal medido desde el norte geográfico hasta la proyección del sol en el plano horizontal.  \n",
    "\n",
    "Estos parámetros dependen de:  \n",
    "* Latitud y longitud de nuestro lugar.  \n",
    "* Fecha y hora que se determine.  \n",
    "* Ecuación del tiempo y declinación solar, que describen la variación anual de la posición del sol debido a la inclinación del eje terrestre y la excentricidad de la órbita.  \n",
    "\n",
    "\n",
    "### Cálculo de la posición solar\n",
    "\n",
    "Actualmente existen diversos modelos matemáticos para determinar la posición de nuestro astro, como el **Solar Position Algorithm (SPA)** del NREL o las fórmulas astronómicas de Meeus. En este proyecto se emplea la librería **PySolar**, que implementa ecuaciones astronómicas precisas para determinar directamente la elevación y el azimut a partir de coordenadas geográficas, fecha y hora.\n",
    "\n",
    "\n",
    "### Cálculo\n",
    "\n",
    "El cálculo básico se puede expresar de la siguiente manera:  \n",
    "\n",
    "$\\theta = \\text{get\\_altitude}(\\varphi, \\lambda, t)$  \n",
    "\n",
    "$\\alpha = \\text{get\\_azimuth}(\\varphi, \\lambda, t)$  \n",
    "\n",
    "\n",
    "### Orientación del panel solar\n",
    "\n",
    "Para orientar el panel correctamente es necesario transformar la posición solar en ángulos mecánicos que controlen los actuadores. Para esto entra en juego:  \n",
    "\n",
    "- **Pitch** $90^\\circ - \\theta$: ángulo de elevación del panel solar.  \n",
    "- **Roll** $\\alpha$: ángulo de azimut del panel solar.  \n",
    "\n",
    "Pitch ajusta la inclinación vertical del panel, mientras que Roll controla la rotación horizontal en función del azimut solar.\n",
    "\n",
    "\n",
    "### Representación en 3D\n",
    "\n",
    "La simulación gráfica del sistema se realiza mediante:  \n",
    "1. Vectores unitarios que indican la dirección del sol:  \n",
    "   $s = [\\cos(\\theta) \\cdot \\sin(\\alpha),\\ \\cos(\\theta) \\cdot \\cos(\\alpha),\\ \\sin(\\theta)]$  \n",
    "2. Transformaciones geométricas para obtener los vértices del panel a partir del vector normal.  \n",
    "3. Visualización en **Matplotlib 3D**, mostrando tanto la trayectoria solar como la orientación dinámica del panel.\n",
    "\n",
    "\n",
    "Es importante el uso de los seguidores solares de dos ejes, pues permite maximizar la irradiancia recibida, aumentando la eficiencia energética respecto a sistemas fijos. En condiciones óptimas, este tipo de sistema puede incrementar la captación de energía entre un **25% y un 40%** anual, dependiendo de la latitud y las condiciones meteorológicas.\n",
    "\n"
   ]
  },
  {
   "cell_type": "markdown",
   "id": "b610a2c5",
   "metadata": {},
   "source": [
    "## Metodología"
   ]
  },
  {
   "cell_type": "markdown",
   "id": "8bfaca53",
   "metadata": {},
   "source": [
    "El sistema desarrollado es una aplicación en **Python** que simula el movimiento de un panel solar de dos grados de libertad (elevación y azimut) en función de la posición aparente del sol para una ubicación específica.  \n",
    "El objetivo es calcular los ángulos de orientación (Pitch y Roll) del panel en distintos momentos del día y representarlos visualmente en 3D junto con la trayectoria solar.  \n",
    "\n",
    "Para lograrlo se implementa:\n",
    "- **Entrada de datos**: el usuario selecciona fecha, hora de inicio, duración y intervalo de cálculo.\n",
    "- **Cálculo astronómico**: mediante la librería **PySolar** se obtienen la elevación y el azimut solar.\n",
    "- **Conversión a ángulos mecánicos**: se transforman estos valores en Pitch y Roll.\n",
    "- **Visualización 3D**: usando `matplotlib` y `mpl_toolkits.mplot3d` para mostrar la trayectoria del sol y la orientación dinámica del panel.\n",
    "- **Interfaz gráfica**: desarrollada en `Tkinter` con controles para iniciar, pausar, reiniciar y navegar por la animación.\n"
   ]
  },
  {
   "cell_type": "markdown",
   "id": "b82517c0",
   "metadata": {},
   "source": [
    "# Desarollo Matemático"
   ]
  },
  {
   "cell_type": "markdown",
   "id": "8123be7a",
   "metadata": {},
   "source": [
    "Para la realización de los cálculos de la posición solar se hizo lo siguiente.\n",
    "**la Elevación** y el **azimut** se calculan usando:\n",
    "**a) Cálculo de la posición solar**  \n",
    "La **elevación solar** \\\\( \\theta \\\\) y el **azimut** \\\\( \\alpha \\\\) se calculan mediante:\n",
    "\n",
    "$\\theta = \\text{get\\_altitude}(\\varphi, \\lambda, t)$\n",
    "\n",
    "$\\alpha = \\text{get\\_azimuth}(\\varphi, \\lambda, t)$\n",
    "\n",
    "donde:\n",
    "- $\\varphi$ = latitud geográfica  \n",
    "- $\\lambda$ = longitud geográfica  \n",
    "- $t$ = instante de tiempo local  \n",
    "\n",
    "**b) Conversión a ángulos de control del panel**  \n",
    "Se definen los ángulos mecánicos del seguidor:\n",
    "\n",
    "$\\text{Pitch} = 90^\\circ - \\theta$\n",
    "\n",
    "$\\text{Roll} = \\alpha$\n",
    "\n",
    "**c) Vector unitario solar**  \n",
    "La dirección del sol en coordenadas 3D se calcula como:\n",
    "\n",
    "$\\vec{s} =\n",
    "\\begin{bmatrix}\n",
    "\\cos(\\theta) \\cdot \\sin(\\alpha) \\\\\n",
    "\\cos(\\theta) \\cdot \\cos(\\alpha) \\\\\n",
    "\\sin(\\theta)\n",
    "\\end{bmatrix}$\n",
    "\n",
    "\n",
    "Este vector es la referencia para orientar el panel.\n",
    "\n"
   ]
  },
  {
   "cell_type": "markdown",
   "id": "678d9e23",
   "metadata": {},
   "source": [
    "# Pseudocódigo"
   ]
  },
  {
   "cell_type": "markdown",
   "id": "d8e58b5f",
   "metadata": {},
   "source": [
    "INICIO<br>\n",
    "Pedir fecha, hora de inicio, duración y intervalo<br>\n",
    "Convertir datos a lista de instantes de tiempo<br>\n",
    "PARA cada instante t:<br>\n",
    "Calcular elevación (θ) y azimut (α) con PySolar<br>\n",
    "Calcular Pitch y Roll<br>\n",
    "Guardar en listas<br>\n",
    "FIN PARA<br>\n",
    "Configurar ventana Tkinter y gráfica 3D<br>\n",
    "Iniciar animación con FuncAnimation<br>\n",
    "Controles:<br>\n",
    "▶️ Play / ⏸️ Pausa<br>\n",
    "⏪ Retroceso / ⏩ Avance<br>\n",
    "🔁 Reinicio<br>\n",
    "FIN"
   ]
  },
  {
   "cell_type": "markdown",
   "id": "d2b2d7c3",
   "metadata": {},
   "source": [
    "# Diagrama de flujo"
   ]
  },
  {
   "attachments": {
    "image.png": {
     "image/png": "[encoded data removed]"
    }
   },
   "cell_type": "markdown",
   "id": "be1d6d6b",
   "metadata": {},
   "source": [
    "![Diagrama de flujo](attachment:image.png)"
   ]
  },
  {
   "cell_type": "markdown",
   "id": "3a15c7d9",
   "metadata": {},
   "source": [
    "# Librerías empleadas"
   ]
  },
  {
   "cell_type": "markdown",
   "id": "bba22e7c",
   "metadata": {},
   "source": [
    "Las librerías que se emplearon para el proyecto fueron las siguientes:\n",
    "* Para la interfaz gráfica:\n",
    "1. tkinder.\n",
    "2. ttk.\n",
    "3. tkcalendar.\n",
    "* Para los cálculos matemáticos y el manejo de vectores:\n",
    "1. numpy\n",
    "* Para la visualización 3D y animación:\n",
    "1. matplotlib.\n",
    "2. mpl_toolkits.mplot 3d.\n",
    "* Para el cálculo preciso de la posición solar empleamos:\n",
    "1. pysolar.\n",
    "* Para el manejo correcto de zonas horarias:\n",
    "1. pytz.\n",
    "2. datetime.\n"
   ]
  },
  {
   "cell_type": "markdown",
   "id": "183f6305",
   "metadata": {},
   "source": [
    "# Parámetros configurables por el usuario"
   ]
  },
  {
   "cell_type": "markdown",
   "id": "d2f42247",
   "metadata": {},
   "source": [
    "* Fecha: seleccionada en un calendario.\n",
    "* Hora de inicio: formato 0–23 horas.\n",
    "* Duración: cantidad de horas a simular.\n",
    "* Intervalo: paso de cálculo en minutos (ej. 15 min)."
   ]
  },
  {
   "cell_type": "markdown",
   "id": "f3d4ee49",
   "metadata": {},
   "source": [
    "# Interfaz Gráfica"
   ]
  },
  {
   "cell_type": "markdown",
   "id": "3de40ec7",
   "metadata": {},
   "source": [
    "* Panel de configuración con campos de entrada.\n",
    "* Panel de ángulos calculados (Elevación, Azimut, Pitch, Roll).\n",
    "* Área de visualización 3D.\n",
    "* Barra de controles con botones de navegación y un deslizador."
   ]
  },
  {
   "cell_type": "markdown",
   "id": "39b19370",
   "metadata": {},
   "source": [
    "# Animación:\n",
    "* Se usa matplotlib.animation.FuncAnimation para actualizar la posición del panel y del sol.\n",
    "* Se dibujan arcos de colores para visualizar elevación y azimut.\n",
    "* Se permite control manual con botones y deslizador.\n",
    "# Requerimientos de hardware/software\n",
    "* Python 3.8 o superior.\n",
    "* Entorno con soporte para Tkinter y Matplotlib 3D.\n",
    "* Conexión a internet no necesaria para ejecución (cálculos locales).\n",
    "## Recomendaciones para usar este proyecto\n",
    "1. Instalar Python y las librerías indicadas en requirements.txt.\n",
    "2. Configurar la latitud, longitud y zona horaria según la ubicación deseada.\n",
    "3. Ejecutar el archivo principal **\"seguidor_solar.py\"**.\n",
    "4. Probar con diferentes fechas, horas e intervalos para visualizar cambios en la trayectoria solar.\n",
    "5. Verificar que el sistema represente correctamente los ángulos en pantalla antes de guardar resultados o capturas.\n"
   ]
  },
  {
   "cell_type": "markdown",
   "id": "0dbcddc5",
   "metadata": {},
   "source": [
    "# Instalación de dependencias"
   ]
  },
  {
   "cell_type": "markdown",
   "id": "ee59707c",
   "metadata": {},
   "source": [
    "pip install -r requirements.txt"
   ]
  },
  {
   "cell_type": "markdown",
   "id": "43791f08",
   "metadata": {},
   "source": [
    "## Prueba del archivo"
   ]
  },
  {
   "cell_type": "code",
   "execution_count": 7,
   "id": "04a39559",
   "metadata": {},
   "outputs": [],
   "source": [
    "from seguidor_solar_copy import SolarTrackerApp\n",
    "import tkinter as tk\n",
    "\n",
    "root = tk.Tk()\n",
    "app = SolarTrackerApp(root)\n",
    "root.mainloop()\n"
   ]
  },
  {
   "cell_type": "code",
   "execution_count": 9,
   "id": "6a038c0b",
   "metadata": {},
   "outputs": [
    {
     "name": "stderr",
     "output_type": "stream",
     "text": [
      "c:\\Users\\USUARIO\\anaconda3\\Lib\\site-packages\\pysolar\\solartime.py:111: UserWarning: I don't know about leap seconds after 2021\n",
      "  warnings.warn \\\n",
      "Exception in Tkinter callback\n",
      "Traceback (most recent call last):\n",
      "  File \"c:\\Users\\USUARIO\\anaconda3\\Lib\\tkinter\\__init__.py\", line 1968, in __call__\n",
      "    return self.func(*args)\n",
      "           ^^^^^^^^^^^^^^^^\n",
      "  File \"C:\\Users\\USUARIO\\Documents\\CHIRSTIAN_U\\Semestre 2025 A\\Metodos  Numericos\\PROYECTO 2DO BIMESTRE\\seguidor_solar_copy.py\", line 406, in slider_moved\n",
      "    self.update_animation(frame)\n",
      "  File \"C:\\Users\\USUARIO\\Documents\\CHIRSTIAN_U\\Semestre 2025 A\\Metodos  Numericos\\PROYECTO 2DO BIMESTRE\\seguidor_solar_copy.py\", line 232, in update_animation\n",
      "    self.panel.set_verts(self.create_panel_vertices(normal))\n",
      "    ^^^^^^^^^^^^^^^^^^^^\n",
      "AttributeError: 'NoneType' object has no attribute 'set_verts'\n",
      "Exception in Tkinter callback\n",
      "Traceback (most recent call last):\n",
      "  File \"c:\\Users\\USUARIO\\anaconda3\\Lib\\tkinter\\__init__.py\", line 1968, in __call__\n",
      "    return self.func(*args)\n",
      "           ^^^^^^^^^^^^^^^^\n",
      "  File \"C:\\Users\\USUARIO\\Documents\\CHIRSTIAN_U\\Semestre 2025 A\\Metodos  Numericos\\PROYECTO 2DO BIMESTRE\\seguidor_solar_copy.py\", line 406, in slider_moved\n",
      "    self.update_animation(frame)\n",
      "  File \"C:\\Users\\USUARIO\\Documents\\CHIRSTIAN_U\\Semestre 2025 A\\Metodos  Numericos\\PROYECTO 2DO BIMESTRE\\seguidor_solar_copy.py\", line 232, in update_animation\n",
      "    self.panel.set_verts(self.create_panel_vertices(normal))\n",
      "    ^^^^^^^^^^^^^^^^^^^^\n",
      "AttributeError: 'NoneType' object has no attribute 'set_verts'\n",
      "Exception in Tkinter callback\n",
      "Traceback (most recent call last):\n",
      "  File \"c:\\Users\\USUARIO\\anaconda3\\Lib\\tkinter\\__init__.py\", line 1968, in __call__\n",
      "    return self.func(*args)\n",
      "           ^^^^^^^^^^^^^^^^\n",
      "  File \"C:\\Users\\USUARIO\\Documents\\CHIRSTIAN_U\\Semestre 2025 A\\Metodos  Numericos\\PROYECTO 2DO BIMESTRE\\seguidor_solar_copy.py\", line 406, in slider_moved\n",
      "    self.update_animation(frame)\n",
      "  File \"C:\\Users\\USUARIO\\Documents\\CHIRSTIAN_U\\Semestre 2025 A\\Metodos  Numericos\\PROYECTO 2DO BIMESTRE\\seguidor_solar_copy.py\", line 232, in update_animation\n",
      "    self.panel.set_verts(self.create_panel_vertices(normal))\n",
      "    ^^^^^^^^^^^^^^^^^^^^\n",
      "AttributeError: 'NoneType' object has no attribute 'set_verts'\n"
     ]
    }
   ],
   "source": [
    "%run seguidor_solar_copy.py\n"
   ]
  },
  {
   "cell_type": "markdown",
   "id": "ff6af894",
   "metadata": {},
   "source": [
    "# Experimentación"
   ]
  },
  {
   "cell_type": "markdown",
   "id": "e53c814e",
   "metadata": {},
   "source": [
    "Entrando a la fase de experimentación podemos decir que nuestro objetivo primero fue evaluar la precisión, estabilidad y rendimiento del simulador de nuestro seguidor solar, entonces nos pusimos los siguientes objetivos:\n",
    "1. Exactitud de los ángulos solares \"elevación y azimut\" y de control \"Pitch y Roll\".\n"
   ]
  }
 ],
 "metadata": {
  "kernelspec": {
   "display_name": "base",
   "language": "python",
   "name": "python3"
  },
  "language_info": {
   "codemirror_mode": {
    "name": "ipython",
    "version": 3
   },
   "file_extension": ".py",
   "mimetype": "text/x-python",
   "name": "python",
   "nbconvert_exporter": "python",
   "pygments_lexer": "ipython3",
   "version": "3.12.7"
  }
 },
 "nbformat": 4,
 "nbformat_minor": 5
}
